{
 "cells": [
  {
   "cell_type": "code",
   "execution_count": 1,
   "id": "809cdd7e-d122-4e43-b356-d50d54e8d04a",
   "metadata": {
    "tags": []
   },
   "outputs": [],
   "source": [
    "import requests\n",
    "import pandas as pd\n",
    "import numpy as np\n",
    "import matplotlib.pyplot as plt\n"
   ]
  },
  {
   "cell_type": "code",
   "execution_count": 51,
   "id": "e061a21b-bf9d-48f2-b427-bdb902c04141",
   "metadata": {
    "tags": []
   },
   "outputs": [
    {
     "data": {
      "text/html": [
       "<div>\n",
       "<style scoped>\n",
       "    .dataframe tbody tr th:only-of-type {\n",
       "        vertical-align: middle;\n",
       "    }\n",
       "\n",
       "    .dataframe tbody tr th {\n",
       "        vertical-align: top;\n",
       "    }\n",
       "\n",
       "    .dataframe thead th {\n",
       "        text-align: right;\n",
       "    }\n",
       "</style>\n",
       "<table border=\"1\" class=\"dataframe\">\n",
       "  <thead>\n",
       "    <tr style=\"text-align: right;\">\n",
       "      <th></th>\n",
       "      <th>Unnamed: 0</th>\n",
       "      <th>Season Year</th>\n",
       "      <th>Week</th>\n",
       "      <th>Team Name</th>\n",
       "      <th>Team City</th>\n",
       "      <th>Player</th>\n",
       "      <th>Player Jersey</th>\n",
       "      <th>Position</th>\n",
       "      <th>Injury Status</th>\n",
       "      <th>Injury Status Date</th>\n",
       "      <th>Practice Status</th>\n",
       "      <th>Injury Type</th>\n",
       "    </tr>\n",
       "  </thead>\n",
       "  <tbody>\n",
       "    <tr>\n",
       "      <th>0</th>\n",
       "      <td>0</td>\n",
       "      <td>2023.0</td>\n",
       "      <td>1.0</td>\n",
       "      <td>Cowboys</td>\n",
       "      <td>Dallas</td>\n",
       "      <td>Jourdan Lewis</td>\n",
       "      <td>2.0</td>\n",
       "      <td>CB</td>\n",
       "      <td>NaN</td>\n",
       "      <td>2023-09-08T00:00:00+00:00</td>\n",
       "      <td>Full Participation In Practice</td>\n",
       "      <td>Foot</td>\n",
       "    </tr>\n",
       "    <tr>\n",
       "      <th>1</th>\n",
       "      <td>1</td>\n",
       "      <td>2023.0</td>\n",
       "      <td>1.0</td>\n",
       "      <td>Cowboys</td>\n",
       "      <td>Dallas</td>\n",
       "      <td>Tyler Smith</td>\n",
       "      <td>73.0</td>\n",
       "      <td>OL</td>\n",
       "      <td>Doubtful</td>\n",
       "      <td>2023-09-08T00:00:00+00:00</td>\n",
       "      <td>Did Not Participate In Practice</td>\n",
       "      <td>Hamstring</td>\n",
       "    </tr>\n",
       "    <tr>\n",
       "      <th>2</th>\n",
       "      <td>2</td>\n",
       "      <td>2023.0</td>\n",
       "      <td>1.0</td>\n",
       "      <td>Cowboys</td>\n",
       "      <td>Dallas</td>\n",
       "      <td>Sam Williams</td>\n",
       "      <td>54.0</td>\n",
       "      <td>DE</td>\n",
       "      <td>Questionable</td>\n",
       "      <td>2023-09-08T00:00:00+00:00</td>\n",
       "      <td>Full Participation In Practice</td>\n",
       "      <td>Foot</td>\n",
       "    </tr>\n",
       "    <tr>\n",
       "      <th>3</th>\n",
       "      <td>3</td>\n",
       "      <td>2023.0</td>\n",
       "      <td>1.0</td>\n",
       "      <td>Cowboys</td>\n",
       "      <td>Dallas</td>\n",
       "      <td>Donovan Wilson</td>\n",
       "      <td>6.0</td>\n",
       "      <td>SAF</td>\n",
       "      <td>Doubtful</td>\n",
       "      <td>2023-09-08T00:00:00+00:00</td>\n",
       "      <td>Did Not Participate In Practice</td>\n",
       "      <td>Calf</td>\n",
       "    </tr>\n",
       "    <tr>\n",
       "      <th>4</th>\n",
       "      <td>4</td>\n",
       "      <td>2023.0</td>\n",
       "      <td>1.0</td>\n",
       "      <td>Cowboys</td>\n",
       "      <td>Dallas</td>\n",
       "      <td>Malik Hooker</td>\n",
       "      <td>28.0</td>\n",
       "      <td>SAF</td>\n",
       "      <td>Questionable</td>\n",
       "      <td>2023-09-09T00:00:00+00:00</td>\n",
       "      <td>Did Not Participate In Practice</td>\n",
       "      <td>Illness</td>\n",
       "    </tr>\n",
       "  </tbody>\n",
       "</table>\n",
       "</div>"
      ],
      "text/plain": [
       "   Unnamed: 0  Season Year  Week Team Name Team City          Player  \\\n",
       "0           0       2023.0   1.0   Cowboys    Dallas   Jourdan Lewis   \n",
       "1           1       2023.0   1.0   Cowboys    Dallas     Tyler Smith   \n",
       "2           2       2023.0   1.0   Cowboys    Dallas    Sam Williams   \n",
       "3           3       2023.0   1.0   Cowboys    Dallas  Donovan Wilson   \n",
       "4           4       2023.0   1.0   Cowboys    Dallas    Malik Hooker   \n",
       "\n",
       "   Player Jersey Position Injury Status         Injury Status Date  \\\n",
       "0            2.0       CB           NaN  2023-09-08T00:00:00+00:00   \n",
       "1           73.0       OL      Doubtful  2023-09-08T00:00:00+00:00   \n",
       "2           54.0       DE  Questionable  2023-09-08T00:00:00+00:00   \n",
       "3            6.0      SAF      Doubtful  2023-09-08T00:00:00+00:00   \n",
       "4           28.0      SAF  Questionable  2023-09-09T00:00:00+00:00   \n",
       "\n",
       "                   Practice Status Injury Type  \n",
       "0   Full Participation In Practice        Foot  \n",
       "1  Did Not Participate In Practice   Hamstring  \n",
       "2   Full Participation In Practice        Foot  \n",
       "3  Did Not Participate In Practice        Calf  \n",
       "4  Did Not Participate In Practice     Illness  "
      ]
     },
     "execution_count": 51,
     "metadata": {},
     "output_type": "execute_result"
    }
   ],
   "source": [
    "# read csv into dataframe\n",
    "\n",
    "injury_data_df = pd.read_csv(\"injury_data_updated.csv\")\n",
    "injury_data_df.head()"
   ]
  },
  {
   "cell_type": "code",
   "execution_count": 5,
   "id": "c5a7c54a-acde-4294-b70c-4717663f8035",
   "metadata": {},
   "outputs": [
    {
     "data": {
      "text/plain": [
       "60"
      ]
     },
     "execution_count": 5,
     "metadata": {},
     "output_type": "execute_result"
    }
   ],
   "source": [
    "# get total unique injury count\n",
    "\n",
    "injury_data_df['Injury Type'].nunique()"
   ]
  },
  {
   "cell_type": "code",
   "execution_count": 7,
   "id": "9f9b32e2-ff4c-4fe5-93c4-91def798042a",
   "metadata": {
    "tags": []
   },
   "outputs": [
    {
     "data": {
      "text/plain": [
       "array(['Foot', 'Hamstring', 'Calf', 'Illness', 'Ankle', 'Chest',\n",
       "       'Abdomen', 'NIR - Personal', 'Knee', 'Back', 'Quad', 'NIR - Rest',\n",
       "       'Oblique', 'Shoulder', 'Elbow', 'Ribs', 'Groin', 'Heel', 'Wrist',\n",
       "       'Toe', 'NIR-Rest', 'Hamsting', 'Neck', 'Forearm', 'Concussion',\n",
       "       'Hand', 'Rest', 'Thigh', 'Shin', 'Hip', 'Personal', 'Pectoral',\n",
       "       'NIR  -  Rest', 'Finger', 'Biceps', 'Thumb', 'Achilles', 'Eye',\n",
       "       'Quadriceps', 'Quadricep', 'Bicep', 'Rib', 'Vet Rest', 'Face',\n",
       "       'NIR', 'Other', 'Triceps', 'triceps', 'Achillies', 'Ankle/Foot',\n",
       "       'ribs', 'Right Shoulder', 'Head', 'Glute', 'Ankle/Elbow',\n",
       "       'Personal matter', 'Tooth', 'Not Injury Related', 'Tibia', 'Rest '],\n",
       "      dtype=object)"
      ]
     },
     "execution_count": 7,
     "metadata": {},
     "output_type": "execute_result"
    }
   ],
   "source": [
    "# see what 60 injuries are in the dataset\n",
    "\n",
    "injury_data_df['Injury Type'].unique()"
   ]
  },
  {
   "cell_type": "code",
   "execution_count": 9,
   "id": "b73d5c7e-564a-490d-8718-2b80fc7d8f5f",
   "metadata": {
    "tags": []
   },
   "outputs": [
    {
     "data": {
      "text/html": [
       "<div>\n",
       "<style scoped>\n",
       "    .dataframe tbody tr th:only-of-type {\n",
       "        vertical-align: middle;\n",
       "    }\n",
       "\n",
       "    .dataframe tbody tr th {\n",
       "        vertical-align: top;\n",
       "    }\n",
       "\n",
       "    .dataframe thead th {\n",
       "        text-align: right;\n",
       "    }\n",
       "</style>\n",
       "<table border=\"1\" class=\"dataframe\">\n",
       "  <thead>\n",
       "    <tr style=\"text-align: right;\">\n",
       "      <th></th>\n",
       "      <th>Unnamed: 0</th>\n",
       "      <th>Season Year</th>\n",
       "      <th>Week</th>\n",
       "      <th>Team Name</th>\n",
       "      <th>Team City</th>\n",
       "      <th>Player</th>\n",
       "      <th>Player Jersey</th>\n",
       "      <th>Position</th>\n",
       "      <th>Injury Status</th>\n",
       "      <th>Injury Status Date</th>\n",
       "      <th>Practice Status</th>\n",
       "      <th>Injury Type</th>\n",
       "    </tr>\n",
       "  </thead>\n",
       "  <tbody>\n",
       "    <tr>\n",
       "      <th>0</th>\n",
       "      <td>0</td>\n",
       "      <td>2023.0</td>\n",
       "      <td>1.0</td>\n",
       "      <td>Cowboys</td>\n",
       "      <td>Dallas</td>\n",
       "      <td>Jourdan Lewis</td>\n",
       "      <td>2.0</td>\n",
       "      <td>CB</td>\n",
       "      <td>NaN</td>\n",
       "      <td>2023-09-08T00:00:00+00:00</td>\n",
       "      <td>Full Participation In Practice</td>\n",
       "      <td>Foot</td>\n",
       "    </tr>\n",
       "    <tr>\n",
       "      <th>1</th>\n",
       "      <td>1</td>\n",
       "      <td>2023.0</td>\n",
       "      <td>1.0</td>\n",
       "      <td>Cowboys</td>\n",
       "      <td>Dallas</td>\n",
       "      <td>Tyler Smith</td>\n",
       "      <td>73.0</td>\n",
       "      <td>OL</td>\n",
       "      <td>Doubtful</td>\n",
       "      <td>2023-09-08T00:00:00+00:00</td>\n",
       "      <td>Did Not Participate In Practice</td>\n",
       "      <td>Hamstring</td>\n",
       "    </tr>\n",
       "    <tr>\n",
       "      <th>2</th>\n",
       "      <td>2</td>\n",
       "      <td>2023.0</td>\n",
       "      <td>1.0</td>\n",
       "      <td>Cowboys</td>\n",
       "      <td>Dallas</td>\n",
       "      <td>Sam Williams</td>\n",
       "      <td>54.0</td>\n",
       "      <td>DE</td>\n",
       "      <td>Questionable</td>\n",
       "      <td>2023-09-08T00:00:00+00:00</td>\n",
       "      <td>Full Participation In Practice</td>\n",
       "      <td>Foot</td>\n",
       "    </tr>\n",
       "    <tr>\n",
       "      <th>3</th>\n",
       "      <td>3</td>\n",
       "      <td>2023.0</td>\n",
       "      <td>1.0</td>\n",
       "      <td>Cowboys</td>\n",
       "      <td>Dallas</td>\n",
       "      <td>Donovan Wilson</td>\n",
       "      <td>6.0</td>\n",
       "      <td>SAF</td>\n",
       "      <td>Doubtful</td>\n",
       "      <td>2023-09-08T00:00:00+00:00</td>\n",
       "      <td>Did Not Participate In Practice</td>\n",
       "      <td>Calf</td>\n",
       "    </tr>\n",
       "    <tr>\n",
       "      <th>5</th>\n",
       "      <td>5</td>\n",
       "      <td>2023.0</td>\n",
       "      <td>1.0</td>\n",
       "      <td>Cowboys</td>\n",
       "      <td>Dallas</td>\n",
       "      <td>Tyron Smith</td>\n",
       "      <td>77.0</td>\n",
       "      <td>T</td>\n",
       "      <td>Questionable</td>\n",
       "      <td>2023-09-08T00:00:00+00:00</td>\n",
       "      <td>Limited Participation In Practice</td>\n",
       "      <td>Ankle</td>\n",
       "    </tr>\n",
       "  </tbody>\n",
       "</table>\n",
       "</div>"
      ],
      "text/plain": [
       "   Unnamed: 0  Season Year  Week Team Name Team City          Player  \\\n",
       "0           0       2023.0   1.0   Cowboys    Dallas   Jourdan Lewis   \n",
       "1           1       2023.0   1.0   Cowboys    Dallas     Tyler Smith   \n",
       "2           2       2023.0   1.0   Cowboys    Dallas    Sam Williams   \n",
       "3           3       2023.0   1.0   Cowboys    Dallas  Donovan Wilson   \n",
       "5           5       2023.0   1.0   Cowboys    Dallas     Tyron Smith   \n",
       "\n",
       "   Player Jersey Position Injury Status         Injury Status Date  \\\n",
       "0            2.0       CB           NaN  2023-09-08T00:00:00+00:00   \n",
       "1           73.0       OL      Doubtful  2023-09-08T00:00:00+00:00   \n",
       "2           54.0       DE  Questionable  2023-09-08T00:00:00+00:00   \n",
       "3            6.0      SAF      Doubtful  2023-09-08T00:00:00+00:00   \n",
       "5           77.0        T  Questionable  2023-09-08T00:00:00+00:00   \n",
       "\n",
       "                     Practice Status Injury Type  \n",
       "0     Full Participation In Practice        Foot  \n",
       "1    Did Not Participate In Practice   Hamstring  \n",
       "2     Full Participation In Practice        Foot  \n",
       "3    Did Not Participate In Practice        Calf  \n",
       "5  Limited Participation In Practice       Ankle  "
      ]
     },
     "execution_count": 9,
     "metadata": {},
     "output_type": "execute_result"
    }
   ],
   "source": [
    "# clean up data set removing non-injuries\n",
    "\n",
    "injury_updated_df = injury_data_df.drop(injury_data_df[injury_data_df['Injury Type'].isin([\n",
    "    'Illness',\n",
    "    'NIR - Personal',\n",
    "    'NIR - Rest',\n",
    "    'NIR-Rest',\n",
    "    'Rest',\n",
    "    'Personal',\n",
    "    'NIR  -  Rest',\n",
    "    'Vet Rest',\n",
    "    'NIR',\n",
    "    'Personal matter',\n",
    "    'Not Injury Related',\n",
    "    'Rest '])].index)\n",
    "injury_updated_df.head()"
   ]
  },
  {
   "cell_type": "code",
   "execution_count": 11,
   "id": "cf3362ab-acf6-4569-8ea4-9fd10be12f9e",
   "metadata": {
    "tags": []
   },
   "outputs": [
    {
     "data": {
      "text/plain": [
       "48"
      ]
     },
     "execution_count": 11,
     "metadata": {},
     "output_type": "execute_result"
    }
   ],
   "source": [
    "# see updated count of injury types\n",
    "\n",
    "injury_updated_df['Injury Type'].nunique()"
   ]
  },
  {
   "cell_type": "code",
   "execution_count": 13,
   "id": "23f0dfe3-7eaa-4b60-a2cf-ec29fb3381dc",
   "metadata": {
    "tags": []
   },
   "outputs": [
    {
     "data": {
      "text/plain": [
       "array(['Foot', 'Hamstring', 'Calf', 'Ankle', 'Chest', 'Abdomen', 'Knee',\n",
       "       'Back', 'Quad', 'Oblique', 'Shoulder', 'Elbow', 'Ribs', 'Groin',\n",
       "       'Heel', 'Wrist', 'Toe', 'Hamsting', 'Neck', 'Forearm',\n",
       "       'Concussion', 'Hand', 'Thigh', 'Shin', 'Hip', 'Pectoral', 'Finger',\n",
       "       'Biceps', 'Thumb', 'Achilles', 'Eye', 'Quadriceps', 'Quadricep',\n",
       "       'Bicep', 'Rib', 'Face', 'Other', 'Triceps', 'triceps', 'Achillies',\n",
       "       'Ankle/Foot', 'ribs', 'Right Shoulder', 'Head', 'Glute',\n",
       "       'Ankle/Elbow', 'Tooth', 'Tibia'], dtype=object)"
      ]
     },
     "execution_count": 13,
     "metadata": {},
     "output_type": "execute_result"
    }
   ],
   "source": [
    "# view in full to double check entries\n",
    "\n",
    "injury_updated_df['Injury Type'].unique()"
   ]
  },
  {
   "cell_type": "code",
   "execution_count": 15,
   "id": "3106587e-fa32-4e5b-b51b-8a3cc67224d8",
   "metadata": {
    "tags": []
   },
   "outputs": [
    {
     "data": {
      "text/plain": [
       "Injury Type\n",
       "Knee          516\n",
       "Ankle         423\n",
       "Hamstring     366\n",
       "Shoulder      234\n",
       "Concussion    162\n",
       "Name: count, dtype: int64"
      ]
     },
     "execution_count": 15,
     "metadata": {},
     "output_type": "execute_result"
    }
   ],
   "source": [
    "# generate count by injury type\n",
    "\n",
    "injury_updated_df['Injury Type'].value_counts().head()"
   ]
  },
  {
   "cell_type": "code",
   "execution_count": 17,
   "id": "b969b03e-b4cf-4d45-8b65-78f9f7dacd11",
   "metadata": {
    "tags": []
   },
   "outputs": [
    {
     "data": {
      "text/plain": [
       "Injury Type\n",
       "Knee          516\n",
       "Ankle         423\n",
       "Hamstring     367\n",
       "Shoulder      235\n",
       "Concussion    162\n",
       "Name: count, dtype: int64"
      ]
     },
     "execution_count": 17,
     "metadata": {},
     "output_type": "execute_result"
    }
   ],
   "source": [
    "# clean data frame by fixing typos\n",
    "\n",
    "injury_updated_df['Injury Type'] = injury_updated_df['Injury Type'].replace({\n",
    "    'ribs': 'Rib',\n",
    "    'Ribs': 'Rib',\n",
    "    'Biceps': 'Bicep',\n",
    "    'Quadricep': 'Quad',\n",
    "    'Quadriceps': 'Quad',\n",
    "    'Hamsting': 'Hamstring',\n",
    "    'Achillies': 'Achilles',\n",
    "    'Right Shoulder': 'Shoulder',\n",
    "    'Triceps': 'Tricep',\n",
    "    'triceps': 'Tricep',\n",
    "    \n",
    "})\n",
    "injury_updated_df['Injury Type'].value_counts().head()"
   ]
  },
  {
   "cell_type": "code",
   "execution_count": 19,
   "id": "5e4e37e8-9b2d-46d1-aaef-de3f6961d939",
   "metadata": {
    "tags": []
   },
   "outputs": [
    {
     "data": {
      "text/plain": [
       "39"
      ]
     },
     "execution_count": 19,
     "metadata": {},
     "output_type": "execute_result"
    }
   ],
   "source": [
    "# get count updates \n",
    "\n",
    "injury_updated_df['Injury Type'].nunique()"
   ]
  },
  {
   "cell_type": "code",
   "execution_count": 21,
   "id": "75f25759-b6ee-4e2d-90e5-1cae31c1858d",
   "metadata": {
    "tags": []
   },
   "outputs": [
    {
     "data": {
      "text/html": [
       "<div>\n",
       "<style scoped>\n",
       "    .dataframe tbody tr th:only-of-type {\n",
       "        vertical-align: middle;\n",
       "    }\n",
       "\n",
       "    .dataframe tbody tr th {\n",
       "        vertical-align: top;\n",
       "    }\n",
       "\n",
       "    .dataframe thead th {\n",
       "        text-align: right;\n",
       "    }\n",
       "</style>\n",
       "<table border=\"1\" class=\"dataframe\">\n",
       "  <thead>\n",
       "    <tr style=\"text-align: right;\">\n",
       "      <th></th>\n",
       "      <th>Position</th>\n",
       "      <th>Injury Type</th>\n",
       "      <th>Count</th>\n",
       "    </tr>\n",
       "  </thead>\n",
       "  <tbody>\n",
       "    <tr>\n",
       "      <th>0</th>\n",
       "      <td>C</td>\n",
       "      <td>Ankle</td>\n",
       "      <td>3</td>\n",
       "    </tr>\n",
       "    <tr>\n",
       "      <th>1</th>\n",
       "      <td>C</td>\n",
       "      <td>Ankle/Foot</td>\n",
       "      <td>1</td>\n",
       "    </tr>\n",
       "    <tr>\n",
       "      <th>2</th>\n",
       "      <td>C</td>\n",
       "      <td>Back</td>\n",
       "      <td>1</td>\n",
       "    </tr>\n",
       "    <tr>\n",
       "      <th>3</th>\n",
       "      <td>C</td>\n",
       "      <td>Chest</td>\n",
       "      <td>1</td>\n",
       "    </tr>\n",
       "    <tr>\n",
       "      <th>4</th>\n",
       "      <td>C</td>\n",
       "      <td>Concussion</td>\n",
       "      <td>1</td>\n",
       "    </tr>\n",
       "  </tbody>\n",
       "</table>\n",
       "</div>"
      ],
      "text/plain": [
       "  Position Injury Type  Count\n",
       "0        C       Ankle      3\n",
       "1        C  Ankle/Foot      1\n",
       "2        C        Back      1\n",
       "3        C       Chest      1\n",
       "4        C  Concussion      1"
      ]
     },
     "execution_count": 21,
     "metadata": {},
     "output_type": "execute_result"
    }
   ],
   "source": [
    "# use groupby to get injury counts by injury type but ensuring no duplicate entries are counted\n",
    "\n",
    "injury_counts_by_position = injury_updated_df.groupby(['Position', 'Injury Type'])['Player'].nunique()\n",
    "injury_counts_by_position = injury_counts_by_position.reset_index(name='Count')\n",
    "\n",
    "injury_counts_by_position.head()"
   ]
  },
  {
   "cell_type": "code",
   "execution_count": 23,
   "id": "25e67c7a-4462-4686-8a67-58ba2dafdb34",
   "metadata": {
    "tags": []
   },
   "outputs": [
    {
     "data": {
      "text/html": [
       "<div>\n",
       "<style scoped>\n",
       "    .dataframe tbody tr th:only-of-type {\n",
       "        vertical-align: middle;\n",
       "    }\n",
       "\n",
       "    .dataframe tbody tr th {\n",
       "        vertical-align: top;\n",
       "    }\n",
       "\n",
       "    .dataframe thead th {\n",
       "        text-align: right;\n",
       "    }\n",
       "</style>\n",
       "<table border=\"1\" class=\"dataframe\">\n",
       "  <thead>\n",
       "    <tr style=\"text-align: right;\">\n",
       "      <th></th>\n",
       "      <th>Position</th>\n",
       "      <th>Injury Type</th>\n",
       "      <th>Count</th>\n",
       "    </tr>\n",
       "  </thead>\n",
       "  <tbody>\n",
       "    <tr>\n",
       "      <th>4</th>\n",
       "      <td>C</td>\n",
       "      <td>Concussion</td>\n",
       "      <td>1</td>\n",
       "    </tr>\n",
       "    <tr>\n",
       "      <th>19</th>\n",
       "      <td>CB</td>\n",
       "      <td>Concussion</td>\n",
       "      <td>13</td>\n",
       "    </tr>\n",
       "    <tr>\n",
       "      <th>41</th>\n",
       "      <td>DB</td>\n",
       "      <td>Concussion</td>\n",
       "      <td>4</td>\n",
       "    </tr>\n",
       "    <tr>\n",
       "      <th>55</th>\n",
       "      <td>DE</td>\n",
       "      <td>Concussion</td>\n",
       "      <td>3</td>\n",
       "    </tr>\n",
       "    <tr>\n",
       "      <th>99</th>\n",
       "      <td>DT</td>\n",
       "      <td>Concussion</td>\n",
       "      <td>1</td>\n",
       "    </tr>\n",
       "  </tbody>\n",
       "</table>\n",
       "</div>"
      ],
      "text/plain": [
       "   Position Injury Type  Count\n",
       "4         C  Concussion      1\n",
       "19       CB  Concussion     13\n",
       "41       DB  Concussion      4\n",
       "55       DE  Concussion      3\n",
       "99       DT  Concussion      1"
      ]
     },
     "execution_count": 23,
     "metadata": {},
     "output_type": "execute_result"
    }
   ],
   "source": [
    "# get a dataframe to pull specifically concussions by position\n",
    "\n",
    "concussion_risk_by_positions = injury_counts_by_position[injury_counts_by_position['Injury Type'] == 'Concussion']\n",
    "concussion_risk_by_positions.head()"
   ]
  },
  {
   "cell_type": "code",
   "execution_count": 25,
   "id": "a7838cc6-cb1a-47f2-af78-37e413394244",
   "metadata": {
    "tags": []
   },
   "outputs": [
    {
     "data": {
      "image/png": "[encoded data removed]",
      "text/plain": [
       "<Figure size 700x500 with 1 Axes>"
      ]
     },
     "metadata": {},
     "output_type": "display_data"
    }
   ],
   "source": [
    "# plot data with a piechart to best show distribution\n",
    "\n",
    "positions = concussion_risk_by_positions.groupby('Position')['Count'].sum().index\n",
    "counts = concussion_risk_by_positions.groupby('Position')['Count'].sum().values\n",
    "\n",
    "colors = [\n",
    "    \"yellow\",\n",
    "    \"green\",\n",
    "    \"lightblue\",\n",
    "    \"orange\",\n",
    "    \"red\",\n",
    "    \"purple\",\n",
    "    \"pink\",\n",
    "    \"yellowgreen\",\n",
    "    \"lightskyblue\",\n",
    "    \"lightcoral\"]\n",
    "\n",
    "plt.figure(figsize=(7, 5))\n",
    "plt.pie(counts, colors=colors, labels=positions, autopct=\"%1.1f%%\", startangle=90, textprops={'fontsize': 12})\n",
    "plt.axis('equal')\n",
    "plt.title(\"Concussion Injuries by Position\", fontsize=20)\n",
    "plt.legend(positions, loc='upper right', bbox_to_anchor=(1.3, 1))\n",
    "plt.subplots_adjust(top=1.3)  \n",
    "plt.show()"
   ]
  },
  {
   "cell_type": "code",
   "execution_count": 31,
   "id": "550e2d34-7700-494c-a0cd-fc7da118544a",
   "metadata": {},
   "outputs": [
    {
     "data": {
      "text/plain": [
       "Position\n",
       "WR    16\n",
       "CB    13\n",
       "LB    12\n",
       "TE    10\n",
       "OL     9\n",
       "Name: Count, dtype: int64"
      ]
     },
     "execution_count": 31,
     "metadata": {},
     "output_type": "execute_result"
    }
   ],
   "source": [
    "# Identify top 5 positions with highest concussion counts\n",
    "\n",
    "top_5_positions = concussion_risk_by_positions.groupby('Position')['Count'].sum().nlargest(5)\n",
    "top_5_positions"
   ]
  },
  {
   "cell_type": "code",
   "execution_count": 47,
   "id": "108082bb-a492-4112-b456-c494e62c8060",
   "metadata": {
    "tags": []
   },
   "outputs": [
    {
     "data": {
      "text/html": [
       "<div>\n",
       "<style scoped>\n",
       "    .dataframe tbody tr th:only-of-type {\n",
       "        vertical-align: middle;\n",
       "    }\n",
       "\n",
       "    .dataframe tbody tr th {\n",
       "        vertical-align: top;\n",
       "    }\n",
       "\n",
       "    .dataframe thead th {\n",
       "        text-align: right;\n",
       "    }\n",
       "</style>\n",
       "<table border=\"1\" class=\"dataframe\">\n",
       "  <thead>\n",
       "    <tr style=\"text-align: right;\">\n",
       "      <th></th>\n",
       "      <th>Position</th>\n",
       "      <th>Count</th>\n",
       "    </tr>\n",
       "  </thead>\n",
       "  <tbody>\n",
       "    <tr>\n",
       "      <th>0</th>\n",
       "      <td>WR</td>\n",
       "      <td>16</td>\n",
       "    </tr>\n",
       "    <tr>\n",
       "      <th>1</th>\n",
       "      <td>CB</td>\n",
       "      <td>13</td>\n",
       "    </tr>\n",
       "    <tr>\n",
       "      <th>2</th>\n",
       "      <td>LB</td>\n",
       "      <td>12</td>\n",
       "    </tr>\n",
       "    <tr>\n",
       "      <th>3</th>\n",
       "      <td>TE</td>\n",
       "      <td>10</td>\n",
       "    </tr>\n",
       "    <tr>\n",
       "      <th>4</th>\n",
       "      <td>OL</td>\n",
       "      <td>9</td>\n",
       "    </tr>\n",
       "  </tbody>\n",
       "</table>\n",
       "</div>"
      ],
      "text/plain": [
       "  Position  Count\n",
       "0       WR     16\n",
       "1       CB     13\n",
       "2       LB     12\n",
       "3       TE     10\n",
       "4       OL      9"
      ]
     },
     "execution_count": 47,
     "metadata": {},
     "output_type": "execute_result"
    }
   ],
   "source": [
    "# converting to dataframe for better visual\n",
    "\n",
    "top_5_positions = concussion_risk_by_positions.groupby('Position')['Count'].sum().nlargest(5).reset_index(name='Count')\n",
    "top_5_positions"
   ]
  },
  {
   "cell_type": "code",
   "execution_count": null,
   "id": "cc3272fa-196a-4935-ab97-8112ccdf708f",
   "metadata": {},
   "outputs": [],
   "source": []
  },
  {
   "cell_type": "code",
   "execution_count": null,
   "id": "ffd47063-3973-4ea8-ba28-525607948c24",
   "metadata": {},
   "outputs": [],
   "source": []
  }
 ],
 "metadata": {
  "kernelspec": {
   "display_name": "Python 3 (ipykernel)",
   "language": "python",
   "name": "python3"
  },
  "language_info": {
   "codemirror_mode": {
    "name": "ipython",
    "version": 3
   },
   "file_extension": ".py",
   "mimetype": "text/x-python",
   "name": "python",
   "nbconvert_exporter": "python",
   "pygments_lexer": "ipython3",
   "version": "3.11.7"
  }
 },
 "nbformat": 4,
 "nbformat_minor": 5
}
